{
 "cells": [
  {
   "cell_type": "code",
   "execution_count": 1,
   "id": "a3a407ad",
   "metadata": {},
   "outputs": [],
   "source": [
    "import pandas as pd"
   ]
  },
  {
   "cell_type": "code",
   "execution_count": 3,
   "id": "2461c6b2",
   "metadata": {},
   "outputs": [],
   "source": [
    "df = pd.read_csv('data/lewis_acid_scales.csv', delimiter=';')\n",
    "df.drop(columns=[\"Unnamed: 0\", \"FIA\", \"FIA (COSMO)\", '50microA_CH2Cl2', '50microA_DMF', 'Potentiel_pic_3eq', \n",
    "                       'Potentiel_pic_1eq', 'Equivalents', 'In Silico Beckett-Childs'], inplace=True)\n",
    "df.drop(columns=['Yield', 'Excess_AvsB', 'Delta_E1/2_DPV_Maity'], inplace=True)\n",
    "new_cols = ['SMILES', 'NMR Acceptor Number (AN)', 'Water Exchange Rate (WERC)', 'pK$_h$', 'Electrostatic Acceptor Number (E$_a$)',\n",
    "            'Covalent Acceptor Number (C$_a$)', 'Infrared Xanthone Complexes (IrX)','Infrared TPPO Complexes (IrTPPO)', \n",
    "            'Infrared EthylAcetate Complexes (IrAcOEt)', 'Oxidation Peak (Ox)', 'Complexing Power (CP)']\n",
    "\n",
    "df.columns=new_cols\n",
    "df.dropna(axis=0, thresh=2, inplace=True)\n",
    "df.reset_index(inplace=True)\n",
    "df.drop(columns=[\"index\"], inplace=True)\n",
    "df.to_csv('data/experimental_lewis_acid_scales.csv')"
   ]
  },
  {
   "cell_type": "code",
   "execution_count": null,
   "id": "28ea2f7e",
   "metadata": {},
   "outputs": [],
   "source": []
  }
 ],
 "metadata": {
  "kernelspec": {
   "display_name": "Python 3 (ipykernel)",
   "language": "python",
   "name": "python3"
  },
  "language_info": {
   "codemirror_mode": {
    "name": "ipython",
    "version": 3
   },
   "file_extension": ".py",
   "mimetype": "text/x-python",
   "name": "python",
   "nbconvert_exporter": "python",
   "pygments_lexer": "ipython3",
   "version": "3.10.6"
  }
 },
 "nbformat": 4,
 "nbformat_minor": 5
}
