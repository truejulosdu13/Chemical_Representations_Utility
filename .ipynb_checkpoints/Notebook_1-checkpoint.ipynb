{
 "cells": [
  {
   "cell_type": "code",
   "execution_count": 1,
   "id": "c8b2af5a",
   "metadata": {},
   "outputs": [],
   "source": [
    "# this notebook illustrates the chemical spaces of a series of molecules and reactions.\n",
    "# molecules are represented by their Hammett coefficient\n",
    "# reactions are represented by Sterimol parameters (information available here: DOI\thttps://doi.org/10.1039/D1SC00822F)"
   ]
  },
  {
   "cell_type": "code",
   "execution_count": 29,
   "id": "a015c745",
   "metadata": {},
   "outputs": [],
   "source": [
    "import numpy as np\n",
    "import matplotlib.pyplot as plt\n",
    "plt.rcParams['text.usetex'] = True"
   ]
  },
  {
   "cell_type": "code",
   "execution_count": 51,
   "id": "16651d51",
   "metadata": {},
   "outputs": [
    {
     "data": {
      "image/png": "[encoded data removed]",
      "text/plain": [
       "<Figure size 100x300 with 1 Axes>"
      ]
     },
     "metadata": {},
     "output_type": "display_data"
    }
   ],
   "source": [
    "# Hammett representation:\n",
    "\n",
    "R_groups = ['CN', 'H', 'Me', 'OMe']\n",
    "sigma_R  = [0.66, 0.0, -0.17, -0.27]\n",
    "pos_x = [0,0,0,0]\n",
    "\n",
    "# Plot of the dots:\n",
    "fig, ax = plt.subplots(figsize=(1,3))\n",
    "\n",
    "ax.spines['top'].set_visible(False)\n",
    "ax.spines['right'].set_visible(False)\n",
    "ax.spines['bottom'].set_visible(False)\n",
    "\n",
    "ax.set_xticklabels([])\n",
    "ax.set_xticks([])\n",
    "ax.set_ylabel(\"Hammett $\\sigma_R$ constant value\" )\n",
    "ax.set_xlim([-0.02,0.1])\n",
    "ax.scatter(pos_x, sigma_R)\n",
    "\n",
    "for i in range(4):\n",
    "    ax.text(pos_x[i]+0.02, sigma_R[i]-0.025, R_groups[i])\n",
    "    \n",
    "fig.savefig(\"hammet_1.png\", bbox_inches=\"tight\", dpi=300)"
   ]
  },
  {
   "cell_type": "code",
   "execution_count": null,
   "id": "9c17583b",
   "metadata": {},
   "outputs": [],
   "source": [
    "# Stérimol representation:\n",
    "\n",
    "RS_groups = ['Me', 'Et', '^{i}Pr', '^{c}Hex', '^{t}Bu' ]\n",
    "RL_groups = ['4-heptyl', '^{i}Pr', 'Ph_{2}CH', '^{c}Hex', 'benzyl']\n",
    "\n",
    "# values were extracted from the publication: https://pubs.acs.org/doi/pdf/10.1021/acscatal.8b04043 \n",
    "# wL values\n",
    "RS_values = [3.43, 4.59, 4.56, 6.65, 4.54]\n",
    "\n",
    "# wB1 values\n",
    "RL_values = [2.17, 1.91, 1.90, 1.92, 1.90]\n",
    "\n",
    "\n",
    "\n"
   ]
  },
  {
   "cell_type": "code",
   "execution_count": null,
   "id": "303d8cd9",
   "metadata": {},
   "outputs": [],
   "source": []
  }
 ],
 "metadata": {
  "kernelspec": {
   "display_name": "Python 3 (ipykernel)",
   "language": "python",
   "name": "python3"
  },
  "language_info": {
   "codemirror_mode": {
    "name": "ipython",
    "version": 3
   },
   "file_extension": ".py",
   "mimetype": "text/x-python",
   "name": "python",
   "nbconvert_exporter": "python",
   "pygments_lexer": "ipython3",
   "version": "3.10.6"
  }
 },
 "nbformat": 4,
 "nbformat_minor": 5
}
