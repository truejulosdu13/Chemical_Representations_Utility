{
 "cells": [
  {
   "cell_type": "code",
   "execution_count": 2,
   "id": "d1d0276b",
   "metadata": {},
   "outputs": [],
   "source": [
    "#comparison of different featurizations of substitued benzenes"
   ]
  },
  {
   "cell_type": "code",
   "execution_count": null,
   "id": "844b9727",
   "metadata": {},
   "outputs": [],
   "source": []
  }
 ],
 "metadata": {
  "kernelspec": {
   "display_name": "Python 3 (ipykernel)",
   "language": "python",
   "name": "python3"
  },
  "language_info": {
   "codemirror_mode": {
    "name": "ipython",
    "version": 3
   },
   "file_extension": ".py",
   "mimetype": "text/x-python",
   "name": "python",
   "nbconvert_exporter": "python",
   "pygments_lexer": "ipython3",
   "version": "3.10.6"
  }
 },
 "nbformat": 4,
 "nbformat_minor": 5
}
