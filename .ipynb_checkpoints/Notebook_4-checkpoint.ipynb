{
 "cells": [
  {
   "cell_type": "code",
   "execution_count": 1,
   "id": "83b92606",
   "metadata": {},
   "outputs": [],
   "source": [
    "# this notebook aimes to provide 4 types of featurization for any molecule represented as\n",
    "# SMILES string"
   ]
  },
  {
   "cell_type": "code",
   "execution_count": 81,
   "id": "ecbae3db",
   "metadata": {},
   "outputs": [],
   "source": [
    "import numpy as np\n",
    "import rdkit\n",
    "from rdkit import Chem\n",
    "from rdkit.Chem.Descriptors import *\n",
    "from rdkit.Chem import Lipinski\n",
    "from rdkit.Chem import Crippen\n",
    "from rdkit.Chem import AllChem"
   ]
  },
  {
   "cell_type": "code",
   "execution_count": 120,
   "id": "797bd7e7",
   "metadata": {},
   "outputs": [],
   "source": [
    "# featurize mol with the 4 descriptors that allow evaluation of the RO5\n",
    "def ro5_featurize(mol):\n",
    "    # get acceptor number:\n",
    "    acceptors = Lipinski.NumHDonors(mol)\n",
    "    # get donnor number:\n",
    "    donnors = Lipinski.NumHAcceptors(mol)\n",
    "    # get exact mol weight:\n",
    "    mol_w = ExactMolWt(mol)\n",
    "    # get logP\n",
    "    logP = Crippen.MolLogP(mol, True)    \n",
    "    return [acceptors, donnors, mol_w, logP]\n",
    "\n",
    "# evaluate the RO5\n",
    "def is_druglike(mol):\n",
    "    ro5_features = ro5_featurize(mol)\n",
    "    druglike = False\n",
    "    if ro5_features[0] <= 5: # acceptor number criteria\n",
    "        if ro5_features[1] <= 10: # donnor number criteria\n",
    "            if ro5_features[2] <= 500: # molar mass criteria\n",
    "                if ro5_features[3] < 5: # logP criteria\n",
    "                    druglike = True\n",
    "    return druglike\n",
    "\n",
    "# featurize mol with MorganFingerprints\n",
    "def MorganFP_featurize(mol):\n",
    "    FP = AllChem.GetMorganFingerprintAsBitVect(mol,2,nBits=1024)\n",
    "    return list(FP)\n",
    "\n",
    "# featurize mol into a graph (adjacency matrix + nodes)\n",
    "def graph_featurize(mol):\n",
    "    # get the adjacency matrix\n",
    "    adjacency = rdmolops.GetAdjacencyMatrix(mol)\n",
    "    # get nodes, nodes are described by their atomic number\n",
    "    nodes = [at.GetAtomicNum() for at in mol.GetAtoms()]\n",
    "    return adjacency, np.array(nodes)\n",
    "\n",
    "# featurize mol with physico-chemistry parameters (set of descriptors available in RDkit)\n",
    "def physicochemical_featurize(mol):\n",
    "    descriptors = []\n",
    "    # get atomic charges\n",
    "    AllChem.ComputeGasteigerCharges(mol)\n",
    "    charges = []\n",
    "    for at in mol.GetAtoms():\n",
    "        charges.append(at.GetDoubleProp('_GasteigerCharge'))\n",
    "    # add max charge to descriptors:\n",
    "    descriptors.append(max(charges))\n",
    "    # add min charge to descriptors:\n",
    "    descriptors.append(min(charges))\n",
    "    # addMolWt\n",
    "    descriptors.append(ExactMolWt(mol))\n",
    "    # add Radical electron number\n",
    "    descriptors.append(NumRadicalElectrons(mol))\n",
    "    # add number of valence electron\n",
    "    descriptors.append(NumValenceElectrons(mol))\n",
    "    # add number of rotatable bonds\n",
    "    descriptors.append(NumRotatableBonds(mol))\n",
    "    return descriptors"
   ]
  },
  {
   "cell_type": "code",
   "execution_count": 121,
   "id": "266e2888",
   "metadata": {},
   "outputs": [],
   "source": [
    "# paracetamol\n",
    "smi = 'CC(=O)NC1=CC=C(C=C1)O'"
   ]
  },
  {
   "cell_type": "code",
   "execution_count": 122,
   "id": "7f7fa2f0",
   "metadata": {},
   "outputs": [],
   "source": [
    "# build mol object from SMILES\n",
    "mol = Chem.MolFromSmiles(smi)"
   ]
  },
  {
   "cell_type": "code",
   "execution_count": 123,
   "id": "22437e9f",
   "metadata": {},
   "outputs": [
    {
     "data": {
      "image/png": "[encoded data removed]",
      "text/plain": [
       "<rdkit.Chem.rdchem.Mol at 0x11522a340>"
      ]
     },
     "execution_count": 123,
     "metadata": {},
     "output_type": "execute_result"
    }
   ],
   "source": [
    "# display mol\n",
    "mol"
   ]
  },
  {
   "cell_type": "code",
   "execution_count": 124,
   "id": "61c469f8",
   "metadata": {},
   "outputs": [
    {
     "data": {
      "text/plain": [
       "[2, 2, 151.063328528, 1.3505999999999998]"
      ]
     },
     "execution_count": 124,
     "metadata": {},
     "output_type": "execute_result"
    }
   ],
   "source": [
    "# featurize the molecule with ro5_parameters\n",
    "ro5_featurize(mol)"
   ]
  },
  {
   "cell_type": "code",
   "execution_count": 125,
   "id": "7bf1233b",
   "metadata": {},
   "outputs": [
    {
     "data": {
      "text/plain": [
       "True"
      ]
     },
     "execution_count": 125,
     "metadata": {},
     "output_type": "execute_result"
    }
   ],
   "source": [
    "# test molecule for rule of 5:\n",
    "is_druglike(mol)"
   ]
  },
  {
   "cell_type": "code",
   "execution_count": 126,
   "id": "fe733535",
   "metadata": {},
   "outputs": [
    {
     "data": {
      "text/plain": [
       "[0, 0, 0, 0, 0, 0, 0, 0, 0, 0, 0, 0, 0, 1, 0, 0, 0, 0, 0, 0]"
      ]
     },
     "execution_count": 126,
     "metadata": {},
     "output_type": "execute_result"
    }
   ],
   "source": [
    "# featurize the molecule with Morgan Fingerprints\n",
    "MorganFP_featurize(mol)[20:40] # only the bits from 20 to 40 are displayed for more clarity"
   ]
  },
  {
   "cell_type": "code",
   "execution_count": 127,
   "id": "1d46efbd",
   "metadata": {},
   "outputs": [
    {
     "data": {
      "text/plain": [
       "(array([[0, 1, 0, 0, 0, 0, 0, 0, 0, 0, 0],\n",
       "        [1, 0, 1, 1, 0, 0, 0, 0, 0, 0, 0],\n",
       "        [0, 1, 0, 0, 0, 0, 0, 0, 0, 0, 0],\n",
       "        [0, 1, 0, 0, 1, 0, 0, 0, 0, 0, 0],\n",
       "        [0, 0, 0, 1, 0, 1, 0, 0, 0, 1, 0],\n",
       "        [0, 0, 0, 0, 1, 0, 1, 0, 0, 0, 0],\n",
       "        [0, 0, 0, 0, 0, 1, 0, 1, 0, 0, 0],\n",
       "        [0, 0, 0, 0, 0, 0, 1, 0, 1, 0, 1],\n",
       "        [0, 0, 0, 0, 0, 0, 0, 1, 0, 1, 0],\n",
       "        [0, 0, 0, 0, 1, 0, 0, 0, 1, 0, 0],\n",
       "        [0, 0, 0, 0, 0, 0, 0, 1, 0, 0, 0]], dtype=int32),\n",
       " array([6, 6, 8, 7, 6, 6, 6, 6, 6, 6, 8]))"
      ]
     },
     "execution_count": 127,
     "metadata": {},
     "output_type": "execute_result"
    }
   ],
   "source": [
    "# featurize the molecule through a graph: adjacency matrix and nodes (atomic number here)\n",
    "graph_featurize(mol)"
   ]
  },
  {
   "cell_type": "code",
   "execution_count": 128,
   "id": "d0acb448",
   "metadata": {},
   "outputs": [
    {
     "data": {
      "text/plain": [
       "[0.22074743631242583, -0.5079643157925783, 151.063328528, 0, 58, 1]"
      ]
     },
     "execution_count": 128,
     "metadata": {},
     "output_type": "execute_result"
    }
   ],
   "source": [
    "# featurize the molecule with physico chemical descriptors\n",
    "physicochemical_featurize(mol)"
   ]
  },
  {
   "cell_type": "code",
   "execution_count": 130,
   "id": "fc7df0fc",
   "metadata": {},
   "outputs": [
    {
     "data": {
      "text/plain": [
       "[0, 1, 108.057514876, 1.6952]"
      ]
     },
     "execution_count": 130,
     "metadata": {},
     "output_type": "execute_result"
    }
   ],
   "source": [
    "# get ro5_features for anisole\n",
    "smi = 'COc1ccccc1'\n",
    "mol = Chem.MolFromSmiles(smi)\n",
    "ro5_featurize(mol)"
   ]
  },
  {
   "cell_type": "code",
   "execution_count": null,
   "id": "9cbc9180",
   "metadata": {},
   "outputs": [],
   "source": []
  }
 ],
 "metadata": {
  "kernelspec": {
   "display_name": "Python 3 (ipykernel)",
   "language": "python",
   "name": "python3"
  },
  "language_info": {
   "codemirror_mode": {
    "name": "ipython",
    "version": 3
   },
   "file_extension": ".py",
   "mimetype": "text/x-python",
   "name": "python",
   "nbconvert_exporter": "python",
   "pygments_lexer": "ipython3",
   "version": "3.10.6"
  }
 },
 "nbformat": 4,
 "nbformat_minor": 5
}
